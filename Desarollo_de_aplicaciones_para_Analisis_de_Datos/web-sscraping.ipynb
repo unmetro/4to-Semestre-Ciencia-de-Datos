{
 "cells": [
  {
   "cell_type": "code",
   "execution_count": 40,
   "metadata": {},
   "outputs": [
    {
     "data": {
      "text/plain": [
       "(200, 'OK', True, 'Request Successful')"
      ]
     },
     "execution_count": 40,
     "metadata": {},
     "output_type": "execute_result"
    }
   ],
   "source": [
    "import random\n",
    "import time\n",
    "from requests import Session\n",
    "\n",
    "# Updated code with session, random delays, and user-agent rotation for Amazon scraping.\n",
    "\n",
    "# Define a list of user-agent strings for rotation.\n",
    "USER_AGENTS = [\n",
    "    \"Mozilla/5.0 (Windows NT 10.0; Win64; x64) AppleWebKit/537.36 (KHTML, like Gecko) Chrome/130.0.0.0 Safari/537.36\",\n",
    "    \"Mozilla/5.0 (Macintosh; Intel Mac OS X 10_15_7) AppleWebKit/537.36 (KHTML, like Gecko) Chrome/114.0.5735.110 Safari/537.36\",\n",
    "    \"Mozilla/5.0 (Windows NT 10.0; Win64; x64) AppleWebKit/537.36 (KHTML, like Gecko) Firefox/112.0.0.0 Safari/537.36\",\n",
    "    \"Mozilla/5.0 (X11; Linux x86_64) AppleWebKit/537.36 (KHTML, like Gecko) Chrome/109.0.0.0 Safari/537.36\",\n",
    "    \"Mozilla/5.0 (iPhone; CPU iPhone OS 15_2 like Mac OS X) AppleWebKit/605.1.15 (KHTML, like Gecko) Version/15.2 Mobile/15E148 Safari/604.1\"\n",
    "]\n",
    "\n",
    "# URL to scrape\n",
    "url = \"https://www.amazon.com.mx/dp/B079RC2CR8\"\n",
    "\n",
    "# Function to randomly select a user-agent\n",
    "def get_random_user_agent():\n",
    "    return random.choice(USER_AGENTS)\n",
    "\n",
    "# Create a session object to persist headers and cookies\n",
    "session = Session()\n",
    "\n",
    "# Set session headers with a random user-agent\n",
    "session.headers.update({\"user-agent\": get_random_user_agent()})\n",
    "\n",
    "# Introduce a random delay before the request to avoid detection\n",
    "time.sleep(random.uniform(2, 5))\n",
    "\n",
    "# Make the request\n",
    "response = session.get(url)\n",
    "\n",
    "# Check if the response is successful\n",
    "status_code = response.status_code\n",
    "reason = response.reason\n",
    "is_ok = response.ok\n",
    "\n",
    "# Save the response text to a file for review\n",
    "if status_code == 200:\n",
    "    with open(\"codigo_300.html\", \"w\", encoding=\"utf-8\") as f:\n",
    "        f.write(response.text)\n",
    "else:\n",
    "    response_text = response.text  # Capture response content for troubleshooting\n",
    "\n",
    "# Output results\n",
    "status_code, reason, is_ok, response_text if not is_ok else \"Request Successful\""
   ]
  },
  {
   "cell_type": "code",
   "execution_count": null,
   "metadata": {},
   "outputs": [],
   "source": []
  }
 ],
 "metadata": {
  "kernelspec": {
   "display_name": "Python 3",
   "language": "python",
   "name": "python3"
  },
  "language_info": {
   "codemirror_mode": {
    "name": "ipython",
    "version": 3
   },
   "file_extension": ".py",
   "mimetype": "text/x-python",
   "name": "python",
   "nbconvert_exporter": "python",
   "pygments_lexer": "ipython3",
   "version": "3.12.7"
  }
 },
 "nbformat": 4,
 "nbformat_minor": 2
}
